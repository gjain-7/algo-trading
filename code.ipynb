{
 "cells": [
  {
   "cell_type": "markdown",
   "metadata": {},
   "source": [
    "#### Non-library code (by chatGPT)"
   ]
  },
  {
   "cell_type": "code",
   "execution_count": 27,
   "metadata": {},
   "outputs": [],
   "source": [
    "import pandas as pd\n",
    "\n",
    "# Sort the data\n",
    "df = pd.read_csv('NIFTY 50_Data.csv.old')\n",
    "df['Date'] = pd.to_datetime(df['Date'])\n",
    "sorted_df = df.sort_values(by=[\"Date\"])\n",
    "sorted_df.head()\n",
    "\n",
    "\n",
    "df.to_csv(\"NIFTY 50_Data.csv\", index=False)"
   ]
  },
  {
   "cell_type": "code",
   "execution_count": null,
   "metadata": {},
   "outputs": [],
   "source": [
    "class BacktestingServer:\n",
    "    def __init__(self):\n",
    "        # Initialize the capital to be used for the backtest\n",
    "        self.capital = 0\n",
    "    \n",
    "    def set_capital(self, capital):\n",
    "        # Set the capital to be used for the backtest\n",
    "        self.capital = capital\n",
    "    \n",
    "    def run_backtest(self, data, algo_strategy):\n",
    "        # Initialize variables to track the progress of the backtest\n",
    "        current_date = data['Date'].iloc[0]\n",
    "        current_capital = self.capital\n",
    "        current_positions = []\n",
    "        results = []\n",
    "        \n",
    "        # Loop over the data and run the backtest\n",
    "        for index, row in data.iterrows():\n",
    "            # Update the current date\n",
    "            current_date = row['Date']\n",
    "            \n",
    "            # Use the algo_strategy function to determine the actions to take\n",
    "            actions = algo_strategy(current_date, current_capital, current_positions)\n",
    "            \n",
    "            # Process the actions and update the current capital and positions\n",
    "            for action in actions:\n",
    "                if action['action'] == 'buy':\n",
    "                    # Buy the specified number of shares at the current price\n",
    "                    current_capital -= action['shares'] * row['Price']\n",
    "                    current_positions.append({\n",
    "                        'symbol': action['symbol'],\n",
    "                        'shares': action['shares'],\n",
    "                        'price': row['Price']\n",
    "                    })\n",
    "                elif action['action'] == 'sell':\n",
    "                    # Sell the specified number of shares at the current price\n",
    "                    current_capital += action['shares'] * row['Price']\n",
    "                    \n",
    "                    # Remove the sold shares from the current positions\n",
    "                    for position in current_positions:\n",
    "                        if position['symbol'] == action['symbol']:\n",
    "                            position['shares'] -= action['shares']\n",
    "                            if position['shares'] == 0:\n",
    "                                current_positions.remove(position)\n",
    "                            break\n",
    "            \n",
    "            # Store the current results\n",
    "            results.append({\n",
    "                'date': current_date,\n",
    "                'capital': current_capital,\n",
    "                'positions': current_positions.copy()\n",
    "            })\n",
    "        \n",
    "        # Return the results of the backtest\n",
    "        return results\n",
    "\n",
    "# This class defines a BacktestingServer that can be used to run a backtest using the provided historical data and a specified algorithm. The run_backtest method will loop over the data and use the algo_strategy function to determine the actions to take on each iteration. The results variable will contain the capital and positions at each point in time, allowing you to evaluate the performance of the algorithm.\n"
   ]
  },
  {
   "cell_type": "code",
   "execution_count": null,
   "metadata": {},
   "outputs": [],
   "source": [
    "import pandas as pd\n",
    "from datetime\n",
    "import datetime\n",
    "\n",
    "# Load the historical data from a CSV file\n",
    "df = pd.read_csv('NIFTY 50_Data.csv')\n",
    "df['Date'] = pd.to_datetime(df['Date'])\n",
    "sorted_df = df.sort_values(by=[\"Date\"])\n",
    "sorted_df.head()\n",
    "\n",
    "# Initialize the backtesting server\n",
    "server = BacktestingServer()\n",
    "server.set_capital(100000)\n",
    "results = server.run_backtest(data, algo_strategy)\n",
    "\n",
    "\n",
    "print(results)\n",
    "\n",
    "# This code assumes that there is a BacktestingServer class that can be used to run the backtest, and that the algo_strategy function contains the algorithm to be used for the backtest. The results variable will contain the results of the backtest, which can be used to evaluate the performance of the algorithm."
   ]
  }
 ],
 "metadata": {
  "kernelspec": {
   "display_name": "Python 3.10.8 ('venv': venv)",
   "language": "python",
   "name": "python3"
  },
  "language_info": {
   "codemirror_mode": {
    "name": "ipython",
    "version": 3
   },
   "file_extension": ".py",
   "mimetype": "text/x-python",
   "name": "python",
   "nbconvert_exporter": "python",
   "pygments_lexer": "ipython3",
   "version": "3.10.8"
  },
  "orig_nbformat": 4,
  "vscode": {
   "interpreter": {
    "hash": "295f115da5f2b93e70a8e0cd92fade87ea2aedda2820a21a1f474eeed8fe3482"
   }
  }
 },
 "nbformat": 4,
 "nbformat_minor": 2
}
